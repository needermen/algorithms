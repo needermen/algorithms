{
 "cells": [
  {
   "cell_type": "markdown",
   "metadata": {},
   "source": [
    "## Practice"
   ]
  },
  {
   "cell_type": "code",
   "execution_count": 1,
   "metadata": {},
   "outputs": [
    {
     "name": "stdout",
     "output_type": "stream",
     "text": [
      "0 A\n",
      "1 C\n",
      "2 D\n",
      "3 B\n"
     ]
    }
   ],
   "source": [
    "for i,a in enumerate('ACDB'):\n",
    "    print(i,a)"
   ]
  },
  {
   "cell_type": "code",
   "execution_count": 2,
   "metadata": {},
   "outputs": [
    {
     "data": {
      "text/plain": [
       "'1'"
      ]
     },
     "execution_count": 2,
     "metadata": {},
     "output_type": "execute_result"
    }
   ],
   "source": [
    "str(1)"
   ]
  },
  {
   "cell_type": "code",
   "execution_count": 3,
   "metadata": {},
   "outputs": [
    {
     "data": {
      "text/plain": [
       "2"
      ]
     },
     "execution_count": 3,
     "metadata": {},
     "output_type": "execute_result"
    }
   ],
   "source": [
    "min(2,3)"
   ]
  },
  {
   "cell_type": "markdown",
   "metadata": {},
   "source": [
    "## Solution 1"
   ]
  },
  {
   "cell_type": "code",
   "execution_count": null,
   "metadata": {},
   "outputs": [],
   "source": [
    "\n",
    "# you can write to stdout for debugging purposes, e.g.\n",
    "# print(\"this is a debug message\")\n",
    "dic = {}\n",
    "\n",
    "def calc(arr, x,y):\n",
    "    if x == y:\n",
    "        return arr[x]\n",
    "    if y - x == 1:\n",
    "        return min(arr[x],arr[y])\n",
    "    elif str(x)+str(y) in dic:\n",
    "        return dic[str(x)+str(y)]\n",
    "    else:\n",
    "        dic[str(x)+str(y)] = min(calc(arr, x, x + (y-x) // 2), calc(arr, x + (y-x) // 2, y))\n",
    "        return dic[str(x)+str(y)]\n",
    "\n",
    "def solution(S, P, Q):\n",
    "    arr = []\n",
    "    for s in S:\n",
    "        if s == 'A':\n",
    "            arr.append(1)\n",
    "        elif s == 'C':\n",
    "            arr.append(2)\n",
    "        elif s == 'G':\n",
    "            arr.append(3)\n",
    "        elif s == 'T':\n",
    "            arr.append(4)\n",
    "    M = len(P)\n",
    "    res = []\n",
    "    for i in range(0,M):\n",
    "        res.append(calc(arr, P[i], Q[i]))\n",
    "    return res\n",
    "    pass\n"
   ]
  },
  {
   "cell_type": "markdown",
   "metadata": {},
   "source": [
    "### Time Complexcity - O(N*M)\n",
    "### Time Spent - 2 hours\n",
    "### Correctnes -  100\n",
    "### Performance - 33\n",
    "### Final Result - 75"
   ]
  },
  {
   "cell_type": "code",
   "execution_count": 5,
   "metadata": {},
   "outputs": [
    {
     "name": "stdout",
     "output_type": "stream",
     "text": [
      "0\n",
      "1\n",
      "2\n",
      "3\n",
      "4\n"
     ]
    }
   ],
   "source": [
    "for i in range(5):\n",
    "    print(i)"
   ]
  },
  {
   "cell_type": "markdown",
   "metadata": {},
   "source": [
    "## Solution 2"
   ]
  },
  {
   "cell_type": "code",
   "execution_count": 7,
   "metadata": {},
   "outputs": [
    {
     "name": "stdout",
     "output_type": "stream",
     "text": [
      "[3, 3, 3, 3, 3]\n"
     ]
    }
   ],
   "source": [
    "# you can write to stdout for debugging purposes, e.g.\n",
    "# print(\"this is a debug message\")\n",
    "def solution(S, P, Q):\n",
    "    M = len(P)\n",
    "    N = len(S)\n",
    "    A = [0] * N\n",
    "    C = [0] * N\n",
    "    G = [0] * N\n",
    "    for i,s in enumerate(S):\n",
    "        if i == 0:\n",
    "            if s == 'A':\n",
    "                A[0] = 1\n",
    "            elif s == 'C':\n",
    "                C[0] = 1\n",
    "            elif s == 'G':\n",
    "                G[0] = 1\n",
    "        else:\n",
    "            A[i] = A[i-1]\n",
    "            C[i] = C[i-1]\n",
    "            G[i] = G[i-1]\n",
    "            if s == 'A':\n",
    "                A[i] += 1\n",
    "            elif s == 'C':\n",
    "                C[i] += 1\n",
    "            elif s == 'G':\n",
    "                G[i] += 1\n",
    "    \n",
    "    arr = []\n",
    "    for i in range(M):\n",
    "        if P[i] == 0:\n",
    "            if A[Q[i]] > 0:\n",
    "                arr.append(1)\n",
    "            elif C[Q[i]] > 0:\n",
    "                arr.append(2)\n",
    "            elif G[Q[i]] > 0:\n",
    "                arr.append(3)\n",
    "            else:\n",
    "                arr.append(4)\n",
    "        else:    \n",
    "            if A[Q[i]] - A[P[i]-1] > 0:\n",
    "                arr.append(1)\n",
    "            elif C[Q[i]] - C[P[i]-1] > 0:\n",
    "                arr.append(2)\n",
    "            elif G[Q[i]] - G[P[i]-1] > 0:\n",
    "                arr.append(3)\n",
    "            else:\n",
    "                arr.append(4)\n",
    "    return arr\n",
    "\n",
    "print(solution('GGGGGGGGGGGGGGGGGGGGGG',[0,3,4,2,0], [0,4,5,4,6]))\n"
   ]
  },
  {
   "cell_type": "markdown",
   "metadata": {},
   "source": [
    "### Time Complexcity - O(N+M)\n",
    "### Time Spent - #\n",
    "### Correctnes -  100\n",
    "### Performance - 100\n",
    "### Final Result - 100"
   ]
  }
 ],
 "metadata": {
  "kernelspec": {
   "display_name": "Python 3",
   "language": "python",
   "name": "python3"
  },
  "language_info": {
   "codemirror_mode": {
    "name": "ipython",
    "version": 3
   },
   "file_extension": ".py",
   "mimetype": "text/x-python",
   "name": "python",
   "nbconvert_exporter": "python",
   "pygments_lexer": "ipython3",
   "version": "3.7.4"
  }
 },
 "nbformat": 4,
 "nbformat_minor": 2
}

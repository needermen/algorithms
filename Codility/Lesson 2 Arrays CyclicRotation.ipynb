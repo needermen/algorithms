{
 "cells": [
  {
   "cell_type": "markdown",
   "metadata": {},
   "source": [
    "## Practice"
   ]
  },
  {
   "cell_type": "code",
   "execution_count": null,
   "metadata": {},
   "outputs": [],
   "source": []
  },
  {
   "cell_type": "markdown",
   "metadata": {},
   "source": [
    "## Solution 1"
   ]
  },
  {
   "cell_type": "code",
   "execution_count": 6,
   "metadata": {},
   "outputs": [
    {
     "name": "stdout",
     "output_type": "stream",
     "text": [
      "[9, 7, 6, 3, 8]\n"
     ]
    }
   ],
   "source": [
    "# you can write to stdout for debugging purposes, e.g.\n",
    "# print(\"this is a debug message\")\n",
    "\n",
    "def solution(A, K):\n",
    "    if len(A) == 1 or len(A) == 0:\n",
    "        return A\n",
    "    \n",
    "    t = K % len(A)\n",
    "    newArr = []\n",
    "    \n",
    "    for i in range(len(A) - t, len(A)):\n",
    "        newArr.append(A[i])\n",
    "    for i in range(0, len(A) - t):\n",
    "        newArr.append(A[i])\n",
    "    \n",
    "    return newArr\n",
    "\n",
    "\n",
    "print(solution([3, 8, 9, 7, 6],3))\n",
    "#print(solution())\n"
   ]
  },
  {
   "cell_type": "markdown",
   "metadata": {},
   "source": [
    "### Time - 14:30\n",
    "### Correctnes - 100, \n",
    "### Performance - Not Assessed, \n",
    "### Final Result - 100"
   ]
  }
 ],
 "metadata": {
  "kernelspec": {
   "display_name": "Python 3",
   "language": "python",
   "name": "python3"
  },
  "language_info": {
   "codemirror_mode": {
    "name": "ipython",
    "version": 3
   },
   "file_extension": ".py",
   "mimetype": "text/x-python",
   "name": "python",
   "nbconvert_exporter": "python",
   "pygments_lexer": "ipython3",
   "version": "3.7.0"
  }
 },
 "nbformat": 4,
 "nbformat_minor": 2
}

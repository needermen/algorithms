{
 "cells": [
  {
   "cell_type": "markdown",
   "metadata": {},
   "source": [
    "## Practice"
   ]
  },
  {
   "cell_type": "code",
   "execution_count": null,
   "metadata": {},
   "outputs": [],
   "source": []
  },
  {
   "cell_type": "markdown",
   "metadata": {},
   "source": [
    "## Solution 1"
   ]
  },
  {
   "cell_type": "code",
   "execution_count": 1,
   "metadata": {},
   "outputs": [
    {
     "data": {
      "text/plain": [
       "[3, 2, 2, 4, 2]"
      ]
     },
     "execution_count": 1,
     "metadata": {},
     "output_type": "execute_result"
    }
   ],
   "source": [
    "# you can write to stdout for debugging purposes, e.g.\n",
    "# print(\"this is a debug message\")\n",
    "\n",
    "def solution(N, A):\n",
    "    # write your code in Python 3.6\n",
    "    arr = [0] * (N + 1)\n",
    "    max = 0\n",
    "    for a in A:\n",
    "        if a <= N:\n",
    "            arr[a] += 1\n",
    "            if arr[a] > max:\n",
    "                max = arr[a]\n",
    "        else:\n",
    "            arr = [max] * (N + 1)\n",
    "    \n",
    "    return arr[1:]\n",
    "    pass\n",
    "\n",
    "solution(5, [3, 4, 4, 6, 1, 4, 4])"
   ]
  },
  {
   "cell_type": "markdown",
   "metadata": {},
   "source": [
    "### Time Complexcity - O(N+M)\n",
    "### Time Spent - 12\n",
    "### Correctnes -  100\n",
    "### Performance - 80\n",
    "### Final Result - 88"
   ]
  },
  {
   "cell_type": "code",
   "execution_count": null,
   "metadata": {},
   "outputs": [],
   "source": []
  },
  {
   "cell_type": "markdown",
   "metadata": {},
   "source": [
    "## Solution 2"
   ]
  },
  {
   "cell_type": "code",
   "execution_count": 7,
   "metadata": {},
   "outputs": [
    {
     "data": {
      "text/plain": [
       "[3, 2, 2, 4, 2]"
      ]
     },
     "execution_count": 7,
     "metadata": {},
     "output_type": "execute_result"
    }
   ],
   "source": [
    "# you can write to stdout for debugging purposes, e.g.\n",
    "# print(\"this is a debug message\")\n",
    "\n",
    "def solution(N, A):\n",
    "    # write your code in Python 3.6\n",
    "    arr = [0] * (N + 1)\n",
    "    max = 0\n",
    "    applymax = 0\n",
    "    applied = {}\n",
    "    for a in A:\n",
    "        if a <= N:\n",
    "            if arr[a] < applymax:\n",
    "                arr[a] = applymax\n",
    "                applied[a] = 1\n",
    "            arr[a] += 1\n",
    "            if arr[a] > max:\n",
    "                max = arr[a]\n",
    "        else:\n",
    "            applymax = max\n",
    "            applied = {}\n",
    "            \n",
    "    for a in range(1, N + 1):\n",
    "        if a not in applied and arr[a] < applymax:\n",
    "            arr[a] = applymax\n",
    "            \n",
    "    return arr[1:]\n",
    "\n",
    "solution(5, [3, 4, 4, 6, 1, 4, 4])"
   ]
  },
  {
   "cell_type": "markdown",
   "metadata": {},
   "source": [
    "### Time Complexcity - O(N+M)\n",
    "### Time Spent - extra 27 minutes\n",
    "### Correctnes -  100\n",
    "### Performance - 100\n",
    "### Final Result - 100"
   ]
  },
  {
   "cell_type": "code",
   "execution_count": null,
   "metadata": {},
   "outputs": [],
   "source": []
  }
 ],
 "metadata": {
  "kernelspec": {
   "display_name": "Python 3",
   "language": "python",
   "name": "python3"
  },
  "language_info": {
   "codemirror_mode": {
    "name": "ipython",
    "version": 3
   },
   "file_extension": ".py",
   "mimetype": "text/x-python",
   "name": "python",
   "nbconvert_exporter": "python",
   "pygments_lexer": "ipython3",
   "version": "3.7.0"
  }
 },
 "nbformat": 4,
 "nbformat_minor": 2
}

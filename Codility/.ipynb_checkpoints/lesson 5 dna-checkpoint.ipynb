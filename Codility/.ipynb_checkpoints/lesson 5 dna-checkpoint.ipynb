{
 "cells": [
  {
   "cell_type": "markdown",
   "metadata": {},
   "source": [
    "## Practice"
   ]
  },
  {
   "cell_type": "code",
   "execution_count": 1,
   "metadata": {},
   "outputs": [
    {
     "name": "stdout",
     "output_type": "stream",
     "text": [
      "0 A\n",
      "1 C\n",
      "2 D\n",
      "3 B\n"
     ]
    }
   ],
   "source": [
    "for i,a in enumerate('ACDB'):\n",
    "    print(i,a)"
   ]
  },
  {
   "cell_type": "code",
   "execution_count": 2,
   "metadata": {},
   "outputs": [
    {
     "data": {
      "text/plain": [
       "'1'"
      ]
     },
     "execution_count": 2,
     "metadata": {},
     "output_type": "execute_result"
    }
   ],
   "source": [
    "str(1)"
   ]
  },
  {
   "cell_type": "code",
   "execution_count": 3,
   "metadata": {},
   "outputs": [
    {
     "data": {
      "text/plain": [
       "2"
      ]
     },
     "execution_count": 3,
     "metadata": {},
     "output_type": "execute_result"
    }
   ],
   "source": [
    "min(2,3)"
   ]
  },
  {
   "cell_type": "markdown",
   "metadata": {},
   "source": [
    "## Solution 1"
   ]
  },
  {
   "cell_type": "code",
   "execution_count": null,
   "metadata": {},
   "outputs": [],
   "source": [
    "\n",
    "# you can write to stdout for debugging purposes, e.g.\n",
    "# print(\"this is a debug message\")\n",
    "dic = {}\n",
    "\n",
    "def calc(x,y):\n",
    "    if str(x)+str(y) in dic:\n",
    "        return dic[str(x)+str(y)]\n",
    "    elif x == y:\n",
    "        return x\n",
    "    else:\n",
    "        dic[str(x)+str(y)] = min(calc(x, (y-x) // 2),calc((y-x) // 2,y))\n",
    "        return dic[str(x)+str(y)]\n",
    "\n",
    "def solution(S, P, Q):\n",
    "    arr = []\n",
    "    for s in S:\n",
    "        if s == 'A':\n",
    "            arr.append(1)\n",
    "        elif s == 'C':\n",
    "            arr.append(2)\n",
    "        elif s == 'G':\n",
    "            arr.append(3)\n",
    "        elif s == 'T':\n",
    "            arr.append(4)\n",
    "    M = len(P)\n",
    "    res = []\n",
    "    for i in range(0,M):\n",
    "        res.append(calc(P[i], Q[i]))\n",
    "    return res\n",
    "    pass\n"
   ]
  },
  {
   "cell_type": "markdown",
   "metadata": {},
   "source": [
    "### Time Complexcity - \n",
    "### Time Spent - \n",
    "### Correctnes -  \n",
    "### Performance - Not Assessed\n",
    "### Final Result - "
   ]
  },
  {
   "cell_type": "code",
   "execution_count": null,
   "metadata": {},
   "outputs": [],
   "source": []
  },
  {
   "cell_type": "markdown",
   "metadata": {},
   "source": [
    "## Solution 2"
   ]
  },
  {
   "cell_type": "code",
   "execution_count": null,
   "metadata": {},
   "outputs": [],
   "source": []
  },
  {
   "cell_type": "markdown",
   "metadata": {},
   "source": [
    "### Time Complexcity - \n",
    "### Time Spent - \n",
    "### Correctnes -  \n",
    "### Performance - Not Assessed\n",
    "### Final Result - "
   ]
  }
 ],
 "metadata": {
  "kernelspec": {
   "display_name": "Python 3",
   "language": "python",
   "name": "python3"
  },
  "language_info": {
   "codemirror_mode": {
    "name": "ipython",
    "version": 3
   },
   "file_extension": ".py",
   "mimetype": "text/x-python",
   "name": "python",
   "nbconvert_exporter": "python",
   "pygments_lexer": "ipython3",
   "version": "3.7.4"
  }
 },
 "nbformat": 4,
 "nbformat_minor": 2
}

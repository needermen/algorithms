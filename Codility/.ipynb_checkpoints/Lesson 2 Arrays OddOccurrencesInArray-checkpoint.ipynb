{
 "cells": [
  {
   "cell_type": "markdown",
   "metadata": {},
   "source": [
    "## Practice"
   ]
  },
  {
   "cell_type": "code",
   "execution_count": 14,
   "metadata": {},
   "outputs": [
    {
     "name": "stdout",
     "output_type": "stream",
     "text": [
      "True\n",
      "False\n",
      "b\n"
     ]
    }
   ],
   "source": [
    "dic = {'a': 4, 'b':3}\n",
    "print('a' in dic.keys())\n",
    "\n",
    "del(dic['a'])\n",
    "print('a' in dic.keys())\n",
    "\n",
    "for keys in dic:\n",
    "    print(keys)"
   ]
  },
  {
   "cell_type": "markdown",
   "metadata": {},
   "source": [
    "## Solution 1"
   ]
  },
  {
   "cell_type": "code",
   "execution_count": null,
   "metadata": {},
   "outputs": [],
   "source": [
    "# you can write to stdout for debugging purposes, e.g.\n",
    "# print(\"this is a debug message\")\n",
    "\n",
    "def solution(A):\n",
    "    # write your code in Python 3.6\n",
    "    dic = {}\n",
    "    for a in A:\n",
    "        if a in dic:\n",
    "            del dic[a]\n",
    "        else:\n",
    "            dic[a]=1\n",
    "    for key in dic:\n",
    "        return key\n",
    "    pass\n"
   ]
  },
  {
   "cell_type": "markdown",
   "metadata": {},
   "source": [
    "### Result Correct - 100, \n",
    "### Performance - 100, \n",
    "### Final Result - 100"
   ]
  }
 ],
 "metadata": {
  "kernelspec": {
   "display_name": "Python 3",
   "language": "python",
   "name": "python3"
  },
  "language_info": {
   "codemirror_mode": {
    "name": "ipython",
    "version": 3
   },
   "file_extension": ".py",
   "mimetype": "text/x-python",
   "name": "python",
   "nbconvert_exporter": "python",
   "pygments_lexer": "ipython3",
   "version": "3.7.0"
  }
 },
 "nbformat": 4,
 "nbformat_minor": 2
}

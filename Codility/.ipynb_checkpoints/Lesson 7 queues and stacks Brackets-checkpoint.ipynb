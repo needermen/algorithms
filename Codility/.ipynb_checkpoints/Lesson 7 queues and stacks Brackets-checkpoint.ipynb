{
 "cells": [
  {
   "cell_type": "markdown",
   "metadata": {},
   "source": [
    "## Practice"
   ]
  },
  {
   "cell_type": "code",
   "execution_count": 6,
   "metadata": {},
   "outputs": [
    {
     "data": {
      "text/plain": [
       "[1, 2, 3]"
      ]
     },
     "execution_count": 6,
     "metadata": {},
     "output_type": "execute_result"
    }
   ],
   "source": [
    "arr = [1,2,3]\n",
    "arr.append(10)\n",
    "arr.pop()\n",
    "arr"
   ]
  },
  {
   "cell_type": "markdown",
   "metadata": {},
   "source": [
    "## Solution 1"
   ]
  },
  {
   "cell_type": "code",
   "execution_count": 8,
   "metadata": {},
   "outputs": [],
   "source": [
    "# you can write to stdout for debugging purposes, e.g.\n",
    "# print(\"this is a debug message\")\n",
    "\n",
    "def isClosing(start,end):\n",
    "    if start == '(' and end == ')':\n",
    "        return True\n",
    "    if start == '[' and end == ']':\n",
    "        return True\n",
    "    if start == '{' and end == '}':\n",
    "        return True\n",
    "\n",
    "def solution(S):\n",
    "    # write your code in Python 3.6\n",
    "    if len(S) == 0:\n",
    "        return 1\n",
    "    arr = []\n",
    "    index = -1\n",
    "    for s in S:\n",
    "        if s == '(' or s == '{' or s == '[':\n",
    "            arr.append(s)\n",
    "            index += 1\n",
    "        elif s == ')' or s == '}' or s == ']':\n",
    "            if index == -1:\n",
    "                return 0\n",
    "            if isClosing(arr[index],s):\n",
    "                index -= 1\n",
    "                arr.pop()\n",
    "            else:\n",
    "                return 0\n",
    "    if index == -1:\n",
    "        return 1\n",
    "    return 0"
   ]
  },
  {
   "cell_type": "markdown",
   "metadata": {},
   "source": [
    "### Time Complexcity - O(N)\n",
    "### Time Spent - 20 minutes\n",
    "### Correctnes -  100\n",
    "### Performance - 100\n",
    "### Final Result - 100"
   ]
  },
  {
   "cell_type": "code",
   "execution_count": null,
   "metadata": {},
   "outputs": [],
   "source": []
  },
  {
   "cell_type": "markdown",
   "metadata": {},
   "source": [
    "## Solution 2"
   ]
  },
  {
   "cell_type": "code",
   "execution_count": null,
   "metadata": {},
   "outputs": [],
   "source": []
  },
  {
   "cell_type": "markdown",
   "metadata": {},
   "source": [
    "### Time Complexcity - \n",
    "### Time Spent - \n",
    "### Correctnes -  \n",
    "### Performance -\n",
    "### Final Result - "
   ]
  }
 ],
 "metadata": {
  "kernelspec": {
   "display_name": "Python 3",
   "language": "python",
   "name": "python3"
  },
  "language_info": {
   "codemirror_mode": {
    "name": "ipython",
    "version": 3
   },
   "file_extension": ".py",
   "mimetype": "text/x-python",
   "name": "python",
   "nbconvert_exporter": "python",
   "pygments_lexer": "ipython3",
   "version": "3.7.0"
  }
 },
 "nbformat": 4,
 "nbformat_minor": 2
}

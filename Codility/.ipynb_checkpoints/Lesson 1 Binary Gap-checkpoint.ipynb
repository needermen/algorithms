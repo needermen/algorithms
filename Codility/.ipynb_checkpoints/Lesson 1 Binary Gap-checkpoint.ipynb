{
 "cells": [
  {
   "cell_type": "code",
   "execution_count": 1,
   "metadata": {},
   "outputs": [
    {
     "name": "stdout",
     "output_type": "stream",
     "text": [
      "5\n"
     ]
    }
   ],
   "source": [
    "# time spent \n",
    "# 30 minutes\n",
    "\n",
    "# materials\n",
    "# https://www.rapidtables.com/convert/number/decimal-to-binary.html\n",
    "\n",
    "# how to run\n",
    "# pyhton lesson_1.py\n",
    "\n",
    "# solution\n",
    "def solution(N):\n",
    "    maxCount = 0;\n",
    "    count = -1;\n",
    "    while N > 0:\n",
    "        a = N % 2;\n",
    "        N = (N - a) / 2;\n",
    "        if a == 1:\n",
    "            if maxCount < count:\n",
    "                maxCount = count;\n",
    "            count = 0;\n",
    "        else:\n",
    "            if count != -1:\n",
    "                count += 1;  \n",
    "            \n",
    "    return maxCount\n",
    "\n",
    "\n",
    "# printing\n",
    "print(solution(1041))"
   ]
  }
 ],
 "metadata": {
  "kernelspec": {
   "display_name": "Python 3",
   "language": "python",
   "name": "python3"
  },
  "language_info": {
   "codemirror_mode": {
    "name": "ipython",
    "version": 3
   },
   "file_extension": ".py",
   "mimetype": "text/x-python",
   "name": "python",
   "nbconvert_exporter": "python",
   "pygments_lexer": "ipython3",
   "version": "3.7.0"
  }
 },
 "nbformat": 4,
 "nbformat_minor": 2
}

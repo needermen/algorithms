{
 "cells": [
  {
   "cell_type": "markdown",
   "metadata": {},
   "source": [
    "## Helper Functions"
   ]
  },
  {
   "cell_type": "code",
   "execution_count": 1,
   "metadata": {},
   "outputs": [
    {
     "name": "stdout",
     "output_type": "stream",
     "text": [
      "29\n",
      "28\n",
      "31\n",
      "31\n"
     ]
    }
   ],
   "source": [
    "def daysInMonth(index, isLeapYear=False):\n",
    "    if index == 2:\n",
    "        if isLeapYear:\n",
    "            return 29\n",
    "        return 28\n",
    "    if index > 7:\n",
    "        if index % 2 == 0:\n",
    "            return 31\n",
    "        else:\n",
    "            return 30\n",
    "    else:\n",
    "        if index % 2 == 1:\n",
    "            return 31\n",
    "        else:\n",
    "            return 30\n",
    "    \n",
    "print(daysInMonth(2,True))\n",
    "print(daysInMonth(2,False))\n",
    "print(daysInMonth(8,True))\n",
    "print(daysInMonth(7,True))\n"
   ]
  },
  {
   "cell_type": "code",
   "execution_count": 2,
   "metadata": {},
   "outputs": [
    {
     "name": "stdout",
     "output_type": "stream",
     "text": [
      "True\n",
      "False\n"
     ]
    }
   ],
   "source": [
    "def isLeapYear(year):\n",
    "    return year % 4 == 0\n",
    "\n",
    "print(isLeapYear(2020))\n",
    "print(isLeapYear(2019))"
   ]
  },
  {
   "cell_type": "code",
   "execution_count": 3,
   "metadata": {},
   "outputs": [
    {
     "name": "stdout",
     "output_type": "stream",
     "text": [
      "366\n",
      "365\n"
     ]
    }
   ],
   "source": [
    "def daysInYear(year):\n",
    "    if isLeapYear(year):\n",
    "        return 366\n",
    "    else:\n",
    "        return 365\n",
    "\n",
    "print(daysInYear(2020))\n",
    "print(daysInYear(2019))"
   ]
  },
  {
   "cell_type": "markdown",
   "metadata": {},
   "source": [
    "## Class"
   ]
  },
  {
   "cell_type": "code",
   "execution_count": 9,
   "metadata": {},
   "outputs": [],
   "source": [
    "class Date:\n",
    "    def __init__(self,y,m,d):\n",
    "        self.y = y\n",
    "        self.m = m\n",
    "        self.d = d\n",
    "    \n",
    "    def addDay(self):\n",
    "        if self.d + 1 <= daysInMonth(self.m, isLeapYear(self.y)):\n",
    "            self.d += 1\n",
    "        else:\n",
    "            self.d = 1\n",
    "            if self.m + 1 <= 12:\n",
    "                self.m += 1\n",
    "            else:\n",
    "                self.m = 1\n",
    "                self.y += 1\n",
    "    \n",
    "    def isLess(self, date):\n",
    "        if self.y < date.y:\n",
    "            return True\n",
    "        elif self.y == date.y:\n",
    "            if self.m < date.m:\n",
    "                return True\n",
    "            elif self.m == date.m:\n",
    "                if self.d < date.d:\n",
    "                    return True\n",
    "        return False\n",
    "    \n",
    "    def equals(self, date):\n",
    "        return self.y == date.y and self.m == date.m and self.d == date.d"
   ]
  },
  {
   "cell_type": "markdown",
   "metadata": {},
   "source": [
    "## Solution"
   ]
  },
  {
   "cell_type": "code",
   "execution_count": 10,
   "metadata": {},
   "outputs": [
    {
     "data": {
      "text/plain": [
       "30"
      ]
     },
     "execution_count": 10,
     "metadata": {},
     "output_type": "execute_result"
    }
   ],
   "source": [
    "def daysBetweenDates(start, end):\n",
    "    days = 0\n",
    "    \n",
    "    for y in range(start.y, end.y + 1):\n",
    "        days += daysInYear(y)\n",
    "        \n",
    "    for m in range(1, start.m):\n",
    "        days -= daysInMonth(m, isLeapYear(start.y))\n",
    "    days -= start.d\n",
    "        \n",
    "    for m in range(end.m, 13):\n",
    "        days -= daysInMonth(m, isLeapYear(end.y))\n",
    "    days += end.d\n",
    "    \n",
    "    assert (days >= 0)\n",
    "    \n",
    "    return days\n",
    "\n",
    "daysBetweenDates(Date(2012,9,30), Date(2012,10,30))"
   ]
  },
  {
   "cell_type": "markdown",
   "metadata": {},
   "source": [
    "## Solution 2 with class"
   ]
  },
  {
   "cell_type": "code",
   "execution_count": 13,
   "metadata": {},
   "outputs": [
    {
     "name": "stdout",
     "output_type": "stream",
     "text": [
      "30\n"
     ]
    }
   ],
   "source": [
    "# Solucation 2\n",
    "\n",
    "def daysBetweenDatesC(start, end):\n",
    "    assert start.isLess(end)\n",
    "    days = 0\n",
    "    while not start.equals(end):\n",
    "        start.addDay()\n",
    "        days += 1\n",
    "        \n",
    "    return days\n",
    "\n",
    "print(daysBetweenDatesC(Date(2012,9,30), Date(2012,10,30)))"
   ]
  },
  {
   "cell_type": "markdown",
   "metadata": {},
   "source": [
    "## Tests"
   ]
  },
  {
   "cell_type": "code",
   "execution_count": 16,
   "metadata": {},
   "outputs": [
    {
     "name": "stdout",
     "output_type": "stream",
     "text": [
      "Test case passed!\n",
      "Test case passed!\n",
      "Test case passed!\n",
      "Nice job! Test case (<__main__.Date object at 0x10bac6400>, <__main__.Date object at 0x10bac6438>) correctly raises AssertionError!\n",
      "\n"
     ]
    }
   ],
   "source": [
    "def test():\n",
    "    test_cases = [((Date(2012,9,30),Date(2012,10,30)),30), \n",
    "                  ((Date(2012,1,1),Date(2013,1,1)),366),\n",
    "                  ((Date(2012,9,1),Date(2012,9,4)),3),\n",
    "                  ((Date(2013,1,1),Date(1999,12,31)), \"AssertionError\")]\n",
    "    \n",
    "    for (args, answer) in test_cases:\n",
    "        try:\n",
    "            result = daysBetweenDatesC(args[0],args[1])\n",
    "            if result == answer and answer != \"AssertionError\":\n",
    "                print(\"Test case passed!\")\n",
    "            else:\n",
    "                print(\"Test with data:\", args, \"failed\", result)\n",
    "    \n",
    "        except AssertionError:\n",
    "            if answer == \"AssertionError\":\n",
    "                print(\"Nice job! Test case {0} correctly raises AssertionError!\\n\".format(args))\n",
    "            else:\n",
    "                print(\"Check your work! Test case {0} should not raise AssertionError!\\n\".format(args))           \n",
    "test()"
   ]
  }
 ],
 "metadata": {
  "kernelspec": {
   "display_name": "Python 3",
   "language": "python",
   "name": "python3"
  },
  "language_info": {
   "codemirror_mode": {
    "name": "ipython",
    "version": 3
   },
   "file_extension": ".py",
   "mimetype": "text/x-python",
   "name": "python",
   "nbconvert_exporter": "python",
   "pygments_lexer": "ipython3",
   "version": "3.7.0"
  }
 },
 "nbformat": 4,
 "nbformat_minor": 2
}

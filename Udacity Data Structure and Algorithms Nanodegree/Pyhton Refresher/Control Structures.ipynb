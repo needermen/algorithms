{
 "cells": [
  {
   "cell_type": "code",
   "execution_count": null,
   "metadata": {},
   "outputs": [],
   "source": [
    "#iteration for, enumerate, while"
   ]
  },
  {
   "cell_type": "code",
   "execution_count": 3,
   "metadata": {},
   "outputs": [
    {
     "name": "stdout",
     "output_type": "stream",
     "text": [
      "item = 1\n",
      "item = 2\n",
      "item = 3\n",
      "item = 4\n",
      "item = 5\n"
     ]
    }
   ],
   "source": [
    "list = [1,2,3,4,5]\n",
    "for item in list:\n",
    "    print('item =',item)"
   ]
  },
  {
   "cell_type": "code",
   "execution_count": 2,
   "metadata": {},
   "outputs": [
    {
     "name": "stdout",
     "output_type": "stream",
     "text": [
      "item 0 = 1\n",
      "item 1 = 2\n",
      "item 2 = 3\n",
      "item 3 = 4\n",
      "item 4 = 5\n"
     ]
    }
   ],
   "source": [
    "for i,item in enumerate(list):\n",
    "    print('item',i,'=',item)"
   ]
  },
  {
   "cell_type": "code",
   "execution_count": 12,
   "metadata": {},
   "outputs": [
    {
     "name": "stdout",
     "output_type": "stream",
     "text": [
      "item = 1\n",
      "item = 2\n",
      "item = 3\n",
      "item = 4\n",
      "item = 5\n"
     ]
    }
   ],
   "source": [
    "i=1\n",
    "while i<=5:\n",
    "    print('item =',i)\n",
    "    i+=1"
   ]
  },
  {
   "cell_type": "code",
   "execution_count": 13,
   "metadata": {},
   "outputs": [
    {
     "name": "stdout",
     "output_type": "stream",
     "text": [
      "ana\n",
      "boy\n",
      "cat\n"
     ]
    }
   ],
   "source": [
    "dic = {'a':'ana', 'b': 'boy', 'c': 'cat'}\n",
    "for key in dic:\n",
    "    print(dic[key])"
   ]
  },
  {
   "cell_type": "code",
   "execution_count": 15,
   "metadata": {},
   "outputs": [],
   "source": [
    "# Conditional"
   ]
  },
  {
   "cell_type": "code",
   "execution_count": 17,
   "metadata": {},
   "outputs": [
    {
     "name": "stdout",
     "output_type": "stream",
     "text": [
      "number = 5\n"
     ]
    }
   ],
   "source": [
    "number = 5\n",
    "if number == 3:\n",
    "    print('number =',3)\n",
    "elif number == 4:\n",
    "    print('number =',4)\n",
    "else:\n",
    "    print('number =',5)"
   ]
  }
 ],
 "metadata": {
  "kernelspec": {
   "display_name": "Python 3",
   "language": "python",
   "name": "python3"
  },
  "language_info": {
   "codemirror_mode": {
    "name": "ipython",
    "version": 3
   },
   "file_extension": ".py",
   "mimetype": "text/x-python",
   "name": "python",
   "nbconvert_exporter": "python",
   "pygments_lexer": "ipython3",
   "version": "3.7.0"
  }
 },
 "nbformat": 4,
 "nbformat_minor": 2
}
